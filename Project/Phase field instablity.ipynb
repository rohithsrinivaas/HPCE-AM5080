{
 "cells": [
  {
   "cell_type": "code",
   "execution_count": 1,
   "metadata": {},
   "outputs": [],
   "source": [
    "from pystencils.session import *"
   ]
  },
  {
   "cell_type": "code",
   "execution_count": 2,
   "metadata": {},
   "outputs": [],
   "source": [
    "dh = ps.create_data_handling(domain_size=(256, 256), periodicity=True)\n",
    "μ_field = dh.add_array('mu', latex_name='μ')\n",
    "c_field = dh.add_array('c')\n"
   ]
  },
  {
   "cell_type": "code",
   "execution_count": 4,
   "metadata": {},
   "outputs": [
    {
     "ename": "NameError",
     "evalue": "name 'intecrfacial_free_energy_density' is not defined",
     "output_type": "error",
     "traceback": [
      "\u001b[0;31m---------------------------------------------------------------------------\u001b[0m",
      "\u001b[0;31mNameError\u001b[0m                                 Traceback (most recent call last)",
      "\u001b[0;32m<ipython-input-4-c89ef588cfeb>\u001b[0m in \u001b[0;36m<module>\u001b[0;34m\u001b[0m\n\u001b[1;32m     11\u001b[0m \u001b[0minterfacial_free_energy_density\u001b[0m \u001b[0;34m=\u001b[0m \u001b[0mκ\u001b[0m\u001b[0;34m/\u001b[0m\u001b[0;36m2\u001b[0m \u001b[0;34m*\u001b[0m \u001b[0mgrad_sq\u001b[0m\u001b[0;34m\u001b[0m\u001b[0;34m\u001b[0m\u001b[0m\n\u001b[1;32m     12\u001b[0m \u001b[0;34m\u001b[0m\u001b[0m\n\u001b[0;32m---> 13\u001b[0;31m \u001b[0mfree_energy_density\u001b[0m \u001b[0;34m=\u001b[0m \u001b[0mbulk_free_energy_density\u001b[0m \u001b[0;34m+\u001b[0m \u001b[0mintecrfacial_free_energy_density\u001b[0m\u001b[0;34m\u001b[0m\u001b[0;34m\u001b[0m\u001b[0m\n\u001b[0m\u001b[1;32m     14\u001b[0m \u001b[0mfree_energy_density\u001b[0m\u001b[0;34m\u001b[0m\u001b[0;34m\u001b[0m\u001b[0m\n",
      "\u001b[0;31mNameError\u001b[0m: name 'intecrfacial_free_energy_density' is not defined"
     ]
    }
   ],
   "source": [
    "κ, A = sp.symbols(\"κ A\")\n",
    "\n",
    "c = c_field.center\n",
    "μ = μ_field.center\n",
    "\n",
    "def f(c):\n",
    "    return A * c**2 * (1-c)**2\n",
    "\n",
    "bulk_free_energy_density = f(c)\n",
    "grad_sq = sum(ps.fd.diff(c, i)**2 for i in range(dh.dim))\n",
    "interfacial_free_energy_density = κ/2 * grad_sq\n",
    "\n",
    "free_energy_density = bulk_free_energy_density + intecrfacial_free_energy_density\n",
    "free_energy_density\n"
   ]
  },
  {
   "cell_type": "code",
   "execution_count": null,
   "metadata": {},
   "outputs": [],
   "source": []
  }
 ],
 "metadata": {
  "kernelspec": {
   "display_name": "Python 3",
   "language": "python",
   "name": "python3"
  },
  "language_info": {
   "codemirror_mode": {
    "name": "ipython",
    "version": 3
   },
   "file_extension": ".py",
   "mimetype": "text/x-python",
   "name": "python",
   "nbconvert_exporter": "python",
   "pygments_lexer": "ipython3",
   "version": "3.6.10"
  }
 },
 "nbformat": 4,
 "nbformat_minor": 2
}
